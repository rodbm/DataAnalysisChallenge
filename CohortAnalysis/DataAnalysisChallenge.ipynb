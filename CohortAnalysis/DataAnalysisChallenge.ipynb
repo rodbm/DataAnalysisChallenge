{
 "cells": [
  {
   "cell_type": "markdown",
   "metadata": {},
   "source": [
    "# Nibo DataAnalysisChallenge: Rodrigo Madeira"
   ]
  },
  {
   "cell_type": "markdown",
   "metadata": {},
   "source": [
    "The following code is intended to create two Cohort analysis: one that indicates the business creation rate over the months since the hiring date of the accountant and another that indicates the accountants contract termination rate over the months (accountant churn rate).\n",
    "\n",
    "A qualitative analysis will also be developed for the relationship between the lack of accountant engagement rate (first cohort chart) and accountant churn rate (second cohort chart)."
   ]
  },
  {
   "cell_type": "markdown",
   "metadata": {},
   "source": [
    "### 1. Importing Packages and Libraries"
   ]
  },
  {
   "cell_type": "code",
   "execution_count": 2,
   "metadata": {},
   "outputs": [],
   "source": [
    "import pandas as pd\n",
    "import os as os\n",
    "import seaborn as sns\n",
    "import getpass\n",
    "import sqlite3\n",
    "import requests\n",
    "import json\n",
    "from pandasql import sqldf\n",
    "from pandas.io.json import json_normalize\n",
    "import matplotlib.pyplot as plt\n",
    "\n",
    "pysqldf = lambda q: sqldf(q, globals())"
   ]
  },
  {
   "cell_type": "markdown",
   "metadata": {},
   "source": [
    "### 2. Defining Directory"
   ]
  },
  {
   "cell_type": "code",
   "execution_count": 2,
   "metadata": {},
   "outputs": [
    {
     "data": {
      "text/plain": [
       "'C:\\\\Users\\\\rodrigo.madeira\\\\Documents\\\\nibo'"
      ]
     },
     "execution_count": 2,
     "metadata": {},
     "output_type": "execute_result"
    }
   ],
   "source": [
    "user = getpass.getuser()\n",
    "path = 'C:/Users/'+user+'/Documents/nibo'\n",
    "try:\n",
    "    os.mkdir(path)\n",
    "except:\n",
    "    pass\n",
    "os.chdir(path)\n",
    "os.getcwd()"
   ]
  },
  {
   "cell_type": "markdown",
   "metadata": {},
   "source": [
    "### 3. Building Database"
   ]
  },
  {
   "cell_type": "markdown",
   "metadata": {},
   "source": [
    "#### 3.1 createdOrganizations"
   ]
  },
  {
   "cell_type": "markdown",
   "metadata": {},
   "source": [
    "Importing and reading the createdOrganizations.sql file from Github"
   ]
  },
  {
   "cell_type": "code",
   "execution_count": 3,
   "metadata": {},
   "outputs": [],
   "source": [
    "r = requests.get('https://raw.githubusercontent.com/nibodev/'+\n",
    "                 'DataAnalysisChallenge/master/SRC/CreatedOrganizations.sql')"
   ]
  },
  {
   "cell_type": "markdown",
   "metadata": {},
   "source": [
    "Removing the Primary Key code line due to existing duplicates"
   ]
  },
  {
   "cell_type": "code",
   "execution_count": 4,
   "metadata": {},
   "outputs": [],
   "source": [
    "sql_file = r.text.replace(' PRIMARY KEY', '')"
   ]
  },
  {
   "cell_type": "markdown",
   "metadata": {},
   "source": [
    "Creating Local Database with sqlite"
   ]
  },
  {
   "cell_type": "code",
   "execution_count": 6,
   "metadata": {},
   "outputs": [
    {
     "data": {
      "text/html": [
       "<div>\n",
       "<style scoped>\n",
       "    .dataframe tbody tr th:only-of-type {\n",
       "        vertical-align: middle;\n",
       "    }\n",
       "\n",
       "    .dataframe tbody tr th {\n",
       "        vertical-align: top;\n",
       "    }\n",
       "\n",
       "    .dataframe thead th {\n",
       "        text-align: right;\n",
       "    }\n",
       "</style>\n",
       "<table border=\"1\" class=\"dataframe\">\n",
       "  <thead>\n",
       "    <tr style=\"text-align: right;\">\n",
       "      <th></th>\n",
       "      <th>accountantId</th>\n",
       "      <th>accountantCreateDate</th>\n",
       "      <th>organizationId</th>\n",
       "      <th>organizationCreateDate</th>\n",
       "    </tr>\n",
       "  </thead>\n",
       "  <tbody>\n",
       "    <tr>\n",
       "      <th>0</th>\n",
       "      <td>A2DDF47E</td>\n",
       "      <td>2019-04-18 13:24:06.363</td>\n",
       "      <td>BDEC6494</td>\n",
       "      <td>2019-04-18 17:53:17.790</td>\n",
       "    </tr>\n",
       "    <tr>\n",
       "      <th>1</th>\n",
       "      <td>A2DDF47E</td>\n",
       "      <td>2019-04-18 13:24:06.363</td>\n",
       "      <td>E488EC4B</td>\n",
       "      <td>2019-04-18 17:53:17.817</td>\n",
       "    </tr>\n",
       "    <tr>\n",
       "      <th>2</th>\n",
       "      <td>A2DDF47E</td>\n",
       "      <td>2019-04-18 13:24:06.363</td>\n",
       "      <td>9A344ACD</td>\n",
       "      <td>2019-04-18 17:53:17.940</td>\n",
       "    </tr>\n",
       "    <tr>\n",
       "      <th>3</th>\n",
       "      <td>A2DDF47E</td>\n",
       "      <td>2019-04-18 13:24:06.363</td>\n",
       "      <td>696AEADD</td>\n",
       "      <td>2019-04-18 17:53:17.963</td>\n",
       "    </tr>\n",
       "    <tr>\n",
       "      <th>4</th>\n",
       "      <td>A2DDF47E</td>\n",
       "      <td>2019-04-18 13:24:06.363</td>\n",
       "      <td>AB37A456</td>\n",
       "      <td>2019-04-18 17:53:18.123</td>\n",
       "    </tr>\n",
       "  </tbody>\n",
       "</table>\n",
       "</div>"
      ],
      "text/plain": [
       "  accountantId     accountantCreateDate organizationId  \\\n",
       "0     A2DDF47E  2019-04-18 13:24:06.363       BDEC6494   \n",
       "1     A2DDF47E  2019-04-18 13:24:06.363       E488EC4B   \n",
       "2     A2DDF47E  2019-04-18 13:24:06.363       9A344ACD   \n",
       "3     A2DDF47E  2019-04-18 13:24:06.363       696AEADD   \n",
       "4     A2DDF47E  2019-04-18 13:24:06.363       AB37A456   \n",
       "\n",
       "    organizationCreateDate  \n",
       "0  2019-04-18 17:53:17.790  \n",
       "1  2019-04-18 17:53:17.817  \n",
       "2  2019-04-18 17:53:17.940  \n",
       "3  2019-04-18 17:53:17.963  \n",
       "4  2019-04-18 17:53:18.123  "
      ]
     },
     "execution_count": 6,
     "metadata": {},
     "output_type": "execute_result"
    }
   ],
   "source": [
    "conn = sqlite3.connect('nibo.db')\n",
    "cur = conn.cursor()\n",
    "cur.executescript(sql_file)\n",
    "conn.commit()\n",
    "\n",
    "createdOrganizations = pd.read_sql_query(\"select * from createdOrganizations;\",\n",
    "                                         conn)\n",
    "createdOrganizations.head()"
   ]
  },
  {
   "cell_type": "markdown",
   "metadata": {},
   "source": [
    "Removing duplicates and saving the csv file for later use"
   ]
  },
  {
   "cell_type": "code",
   "execution_count": 7,
   "metadata": {},
   "outputs": [
    {
     "name": "stdout",
     "output_type": "stream",
     "text": [
      "As seguintes empresas estão duplicadas na base: '2EA9ABB3', '5C8F5C9C', 'B8C436C5', 'EDC9E4B9'\n"
     ]
    }
   ],
   "source": [
    "dupl_check = pd.DataFrame(createdOrganizations.groupby('organizationId') \\\n",
    "                          ['organizationCreateDate'].count())\n",
    "dupl_list = dupl_check \\\n",
    "            [dupl_check['organizationCreateDate']>1].index.values.tolist()\n",
    "print('As seguintes empresas estão duplicadas na base: ' \\\n",
    "      +str(dupl_list).replace('[', '').replace(']', ''))\n",
    "createdOrganizations.drop_duplicates(subset='organizationId', \n",
    "                                     keep='first', \n",
    "                                     inplace=True)\n",
    "createdOrganizations.to_csv('createdOrganizations.csv', \n",
    "                            index=False)"
   ]
  },
  {
   "cell_type": "markdown",
   "metadata": {},
   "source": [
    "#### 3.2 accountantContracts"
   ]
  },
  {
   "cell_type": "markdown",
   "metadata": {},
   "source": [
    "Importing and reading the accountantContracts.json file from Github and saving the csv file for later use"
   ]
  },
  {
   "cell_type": "code",
   "execution_count": 8,
   "metadata": {},
   "outputs": [
    {
     "data": {
      "text/html": [
       "<div>\n",
       "<style scoped>\n",
       "    .dataframe tbody tr th:only-of-type {\n",
       "        vertical-align: middle;\n",
       "    }\n",
       "\n",
       "    .dataframe tbody tr th {\n",
       "        vertical-align: top;\n",
       "    }\n",
       "\n",
       "    .dataframe thead th {\n",
       "        text-align: right;\n",
       "    }\n",
       "</style>\n",
       "<table border=\"1\" class=\"dataframe\">\n",
       "  <thead>\n",
       "    <tr style=\"text-align: right;\">\n",
       "      <th></th>\n",
       "      <th>accountantId</th>\n",
       "      <th>cancelDate</th>\n",
       "      <th>ignoreField</th>\n",
       "      <th>signDate</th>\n",
       "      <th>signedOrganizationsCount</th>\n",
       "    </tr>\n",
       "  </thead>\n",
       "  <tbody>\n",
       "    <tr>\n",
       "      <th>0</th>\n",
       "      <td>2239C5F5</td>\n",
       "      <td>21/05/2019</td>\n",
       "      <td>None</td>\n",
       "      <td>2018-12-11T00:00:00</td>\n",
       "      <td>50.0</td>\n",
       "    </tr>\n",
       "    <tr>\n",
       "      <th>1</th>\n",
       "      <td>22A7B6CA</td>\n",
       "      <td>None</td>\n",
       "      <td>None</td>\n",
       "      <td>2019-08-30T00:00:00</td>\n",
       "      <td>200.0</td>\n",
       "    </tr>\n",
       "    <tr>\n",
       "      <th>2</th>\n",
       "      <td>22BBCCCB</td>\n",
       "      <td>None</td>\n",
       "      <td>None</td>\n",
       "      <td>2019-08-21T00:00:00</td>\n",
       "      <td>20.0</td>\n",
       "    </tr>\n",
       "    <tr>\n",
       "      <th>3</th>\n",
       "      <td>22C2E247</td>\n",
       "      <td>None</td>\n",
       "      <td>None</td>\n",
       "      <td>2019-08-13T00:00:00</td>\n",
       "      <td>100.0</td>\n",
       "    </tr>\n",
       "    <tr>\n",
       "      <th>4</th>\n",
       "      <td>22EB8F2A</td>\n",
       "      <td>None</td>\n",
       "      <td>None</td>\n",
       "      <td>2019-04-18T00:00:00</td>\n",
       "      <td>135.0</td>\n",
       "    </tr>\n",
       "  </tbody>\n",
       "</table>\n",
       "</div>"
      ],
      "text/plain": [
       "  accountantId  cancelDate ignoreField             signDate  \\\n",
       "0     2239C5F5  21/05/2019        None  2018-12-11T00:00:00   \n",
       "1     22A7B6CA        None        None  2019-08-30T00:00:00   \n",
       "2     22BBCCCB        None        None  2019-08-21T00:00:00   \n",
       "3     22C2E247        None        None  2019-08-13T00:00:00   \n",
       "4     22EB8F2A        None        None  2019-04-18T00:00:00   \n",
       "\n",
       "   signedOrganizationsCount  \n",
       "0                      50.0  \n",
       "1                     200.0  \n",
       "2                      20.0  \n",
       "3                     100.0  \n",
       "4                     135.0  "
      ]
     },
     "execution_count": 8,
     "metadata": {},
     "output_type": "execute_result"
    }
   ],
   "source": [
    "r = requests.get('https://raw.githubusercontent.com/nibodev/'+\n",
    "                 'DataAnalysisChallenge/master/SRC/accountantContracts.json')\n",
    "json_file = json.loads(r.text)\n",
    "accountantContracts = json_normalize(json_file)\n",
    "accountantContracts.to_csv('accountantContracts.csv', \n",
    "                           index=False)\n",
    "accountantContracts.head()"
   ]
  },
  {
   "cell_type": "markdown",
   "metadata": {},
   "source": [
    "### 4. Data Preprocessing"
   ]
  },
  {
   "cell_type": "code",
   "execution_count": 9,
   "metadata": {},
   "outputs": [],
   "source": [
    "createdOrganizations = pd.read_csv('createdOrganizations.csv')\n",
    "accountantContracts = pd.read_csv('accountantContracts.csv')"
   ]
  },
  {
   "cell_type": "markdown",
   "metadata": {},
   "source": [
    "Completing the accountantContracts dataframe by merging both Dataframes"
   ]
  },
  {
   "cell_type": "code",
   "execution_count": 10,
   "metadata": {},
   "outputs": [
    {
     "data": {
      "text/html": [
       "<div>\n",
       "<style scoped>\n",
       "    .dataframe tbody tr th:only-of-type {\n",
       "        vertical-align: middle;\n",
       "    }\n",
       "\n",
       "    .dataframe tbody tr th {\n",
       "        vertical-align: top;\n",
       "    }\n",
       "\n",
       "    .dataframe thead th {\n",
       "        text-align: right;\n",
       "    }\n",
       "</style>\n",
       "<table border=\"1\" class=\"dataframe\">\n",
       "  <thead>\n",
       "    <tr style=\"text-align: right;\">\n",
       "      <th></th>\n",
       "      <th>accountantId</th>\n",
       "      <th>cancelDate</th>\n",
       "      <th>signDate</th>\n",
       "      <th>signedOrganizationsCount</th>\n",
       "      <th>accountantCreateDate</th>\n",
       "    </tr>\n",
       "  </thead>\n",
       "  <tbody>\n",
       "    <tr>\n",
       "      <th>0</th>\n",
       "      <td>2239C5F5</td>\n",
       "      <td>21/05/2019</td>\n",
       "      <td>2018-12-11T00:00:00</td>\n",
       "      <td>50.0</td>\n",
       "      <td>NaN</td>\n",
       "    </tr>\n",
       "    <tr>\n",
       "      <th>1</th>\n",
       "      <td>22A7B6CA</td>\n",
       "      <td>NaN</td>\n",
       "      <td>2019-08-30T00:00:00</td>\n",
       "      <td>200.0</td>\n",
       "      <td>2019-08-26 14:13:42.200</td>\n",
       "    </tr>\n",
       "    <tr>\n",
       "      <th>2</th>\n",
       "      <td>22BBCCCB</td>\n",
       "      <td>NaN</td>\n",
       "      <td>2019-08-21T00:00:00</td>\n",
       "      <td>20.0</td>\n",
       "      <td>NaN</td>\n",
       "    </tr>\n",
       "    <tr>\n",
       "      <th>3</th>\n",
       "      <td>22C2E247</td>\n",
       "      <td>NaN</td>\n",
       "      <td>2019-08-13T00:00:00</td>\n",
       "      <td>100.0</td>\n",
       "      <td>2019-08-26 13:00:49.953</td>\n",
       "    </tr>\n",
       "    <tr>\n",
       "      <th>4</th>\n",
       "      <td>22EB8F2A</td>\n",
       "      <td>NaN</td>\n",
       "      <td>2019-04-18T00:00:00</td>\n",
       "      <td>135.0</td>\n",
       "      <td>2019-05-14 13:01:16.113</td>\n",
       "    </tr>\n",
       "  </tbody>\n",
       "</table>\n",
       "</div>"
      ],
      "text/plain": [
       "  accountantId  cancelDate             signDate  signedOrganizationsCount  \\\n",
       "0     2239C5F5  21/05/2019  2018-12-11T00:00:00                      50.0   \n",
       "1     22A7B6CA         NaN  2019-08-30T00:00:00                     200.0   \n",
       "2     22BBCCCB         NaN  2019-08-21T00:00:00                      20.0   \n",
       "3     22C2E247         NaN  2019-08-13T00:00:00                     100.0   \n",
       "4     22EB8F2A         NaN  2019-04-18T00:00:00                     135.0   \n",
       "\n",
       "      accountantCreateDate  \n",
       "0                      NaN  \n",
       "1  2019-08-26 14:13:42.200  \n",
       "2                      NaN  \n",
       "3  2019-08-26 13:00:49.953  \n",
       "4  2019-05-14 13:01:16.113  "
      ]
     },
     "execution_count": 10,
     "metadata": {},
     "output_type": "execute_result"
    }
   ],
   "source": [
    "accountantContracts = \\\n",
    "pd.merge(accountantContracts, \n",
    "         createdOrganizations[['accountantId',\n",
    "                               'accountantCreateDate']].drop_duplicates(), \n",
    "         how='left', \n",
    "         on='accountantId')\n",
    "accountantContracts.drop(['ignoreField'], \n",
    "                         axis=1, \n",
    "                         inplace=True)\n",
    "createdOrganizations.drop(['accountantCreateDate'], \n",
    "                          axis=1, \n",
    "                          inplace=True)\n",
    "accountantContracts.head()"
   ]
  },
  {
   "cell_type": "markdown",
   "metadata": {},
   "source": [
    "Fixing the Datetime columns"
   ]
  },
  {
   "cell_type": "code",
   "execution_count": 11,
   "metadata": {},
   "outputs": [
    {
     "data": {
      "text/html": [
       "<div>\n",
       "<style scoped>\n",
       "    .dataframe tbody tr th:only-of-type {\n",
       "        vertical-align: middle;\n",
       "    }\n",
       "\n",
       "    .dataframe tbody tr th {\n",
       "        vertical-align: top;\n",
       "    }\n",
       "\n",
       "    .dataframe thead th {\n",
       "        text-align: right;\n",
       "    }\n",
       "</style>\n",
       "<table border=\"1\" class=\"dataframe\">\n",
       "  <thead>\n",
       "    <tr style=\"text-align: right;\">\n",
       "      <th></th>\n",
       "      <th>accountantId</th>\n",
       "      <th>organizationId</th>\n",
       "      <th>organizationCreateDate</th>\n",
       "      <th>organizationCreateDate_month</th>\n",
       "    </tr>\n",
       "  </thead>\n",
       "  <tbody>\n",
       "    <tr>\n",
       "      <th>0</th>\n",
       "      <td>A2DDF47E</td>\n",
       "      <td>BDEC6494</td>\n",
       "      <td>2019-04-18 17:53:17.790</td>\n",
       "      <td>4</td>\n",
       "    </tr>\n",
       "    <tr>\n",
       "      <th>1</th>\n",
       "      <td>A2DDF47E</td>\n",
       "      <td>E488EC4B</td>\n",
       "      <td>2019-04-18 17:53:17.817</td>\n",
       "      <td>4</td>\n",
       "    </tr>\n",
       "    <tr>\n",
       "      <th>2</th>\n",
       "      <td>A2DDF47E</td>\n",
       "      <td>9A344ACD</td>\n",
       "      <td>2019-04-18 17:53:17.940</td>\n",
       "      <td>4</td>\n",
       "    </tr>\n",
       "    <tr>\n",
       "      <th>3</th>\n",
       "      <td>A2DDF47E</td>\n",
       "      <td>696AEADD</td>\n",
       "      <td>2019-04-18 17:53:17.963</td>\n",
       "      <td>4</td>\n",
       "    </tr>\n",
       "    <tr>\n",
       "      <th>4</th>\n",
       "      <td>A2DDF47E</td>\n",
       "      <td>AB37A456</td>\n",
       "      <td>2019-04-18 17:53:18.123</td>\n",
       "      <td>4</td>\n",
       "    </tr>\n",
       "  </tbody>\n",
       "</table>\n",
       "</div>"
      ],
      "text/plain": [
       "  accountantId organizationId  organizationCreateDate  \\\n",
       "0     A2DDF47E       BDEC6494 2019-04-18 17:53:17.790   \n",
       "1     A2DDF47E       E488EC4B 2019-04-18 17:53:17.817   \n",
       "2     A2DDF47E       9A344ACD 2019-04-18 17:53:17.940   \n",
       "3     A2DDF47E       696AEADD 2019-04-18 17:53:17.963   \n",
       "4     A2DDF47E       AB37A456 2019-04-18 17:53:18.123   \n",
       "\n",
       "   organizationCreateDate_month  \n",
       "0                             4  \n",
       "1                             4  \n",
       "2                             4  \n",
       "3                             4  \n",
       "4                             4  "
      ]
     },
     "execution_count": 11,
     "metadata": {},
     "output_type": "execute_result"
    }
   ],
   "source": [
    "accountantContracts[\"signDate\"] = \\\n",
    "accountantContracts[\"signDate\"].str.split(\"T\", \n",
    "                                           expand = True)[0]\n",
    "accountantContracts['signDate'] = \\\n",
    "pd.to_datetime(accountantContracts['signDate'])\n",
    "accountantContracts['accountantCreateDate'] =  \\\n",
    "pd.to_datetime(accountantContracts['accountantCreateDate'])\n",
    "createdOrganizations['organizationCreateDate'] =  \\\n",
    "pd.to_datetime(createdOrganizations['organizationCreateDate'])\n",
    "\n",
    "accountantContracts['signDate_month'] = \\\n",
    "accountantContracts['signDate'].dt.month\n",
    "createdOrganizations['organizationCreateDate_month'] = \\\n",
    "createdOrganizations['organizationCreateDate'].dt.month\n",
    "\n",
    "accountantContracts.head()\n",
    "createdOrganizations.head()"
   ]
  },
  {
   "cell_type": "markdown",
   "metadata": {},
   "source": [
    "Creating the preliminary accountant commitment Dataframe"
   ]
  },
  {
   "cell_type": "code",
   "execution_count": 12,
   "metadata": {},
   "outputs": [
    {
     "data": {
      "text/html": [
       "<div>\n",
       "<style scoped>\n",
       "    .dataframe tbody tr th:only-of-type {\n",
       "        vertical-align: middle;\n",
       "    }\n",
       "\n",
       "    .dataframe tbody tr th {\n",
       "        vertical-align: top;\n",
       "    }\n",
       "\n",
       "    .dataframe thead th {\n",
       "        text-align: right;\n",
       "    }\n",
       "</style>\n",
       "<table border=\"1\" class=\"dataframe\">\n",
       "  <thead>\n",
       "    <tr style=\"text-align: right;\">\n",
       "      <th></th>\n",
       "      <th>accountantId</th>\n",
       "      <th>cohort</th>\n",
       "      <th>total</th>\n",
       "      <th>m</th>\n",
       "      <th>count_org</th>\n",
       "    </tr>\n",
       "  </thead>\n",
       "  <tbody>\n",
       "    <tr>\n",
       "      <th>0</th>\n",
       "      <td>22A7B6CA</td>\n",
       "      <td>8</td>\n",
       "      <td>200.0</td>\n",
       "      <td>8</td>\n",
       "      <td>1</td>\n",
       "    </tr>\n",
       "    <tr>\n",
       "      <th>1</th>\n",
       "      <td>22A7B6CA</td>\n",
       "      <td>8</td>\n",
       "      <td>200.0</td>\n",
       "      <td>9</td>\n",
       "      <td>248</td>\n",
       "    </tr>\n",
       "    <tr>\n",
       "      <th>2</th>\n",
       "      <td>22C2E247</td>\n",
       "      <td>8</td>\n",
       "      <td>100.0</td>\n",
       "      <td>8</td>\n",
       "      <td>83</td>\n",
       "    </tr>\n",
       "    <tr>\n",
       "      <th>3</th>\n",
       "      <td>22C2E247</td>\n",
       "      <td>8</td>\n",
       "      <td>100.0</td>\n",
       "      <td>9</td>\n",
       "      <td>46</td>\n",
       "    </tr>\n",
       "    <tr>\n",
       "      <th>4</th>\n",
       "      <td>22EB8F2A</td>\n",
       "      <td>4</td>\n",
       "      <td>135.0</td>\n",
       "      <td>5</td>\n",
       "      <td>131</td>\n",
       "    </tr>\n",
       "  </tbody>\n",
       "</table>\n",
       "</div>"
      ],
      "text/plain": [
       "  accountantId  cohort  total  m  count_org\n",
       "0     22A7B6CA       8  200.0  8          1\n",
       "1     22A7B6CA       8  200.0  9        248\n",
       "2     22C2E247       8  100.0  8         83\n",
       "3     22C2E247       8  100.0  9         46\n",
       "4     22EB8F2A       4  135.0  5        131"
      ]
     },
     "execution_count": 12,
     "metadata": {},
     "output_type": "execute_result"
    }
   ],
   "source": [
    "base_engaj_accountant = pysqldf(\"\"\"\n",
    "SELECT\n",
    "A.accountantId,\n",
    "A.signDate_month AS cohort,\n",
    "A.signedOrganizationsCount AS total,\n",
    "B.organizationCreateDate_month AS m,\n",
    "B.count_org\n",
    "FROM accountantContracts A\n",
    "JOIN\n",
    "(\n",
    "SELECT\n",
    "accountantId,\n",
    "organizationCreateDate_month,\n",
    "COUNT(DISTINCT organizationId) AS count_org\n",
    "FROM createdOrganizations\n",
    "GROUP BY\n",
    "accountantId,\n",
    "organizationCreateDate_month\n",
    ") B ON A.accountantId = B.accountantId\n",
    "\n",
    "\"\"\")\n",
    "\n",
    "base_engaj_accountant.head()"
   ]
  },
  {
   "cell_type": "markdown",
   "metadata": {},
   "source": [
    "Creating the preliminary organization creation rate Dataframe"
   ]
  },
  {
   "cell_type": "code",
   "execution_count": 13,
   "metadata": {},
   "outputs": [
    {
     "data": {
      "text/html": [
       "<div>\n",
       "<style scoped>\n",
       "    .dataframe tbody tr th:only-of-type {\n",
       "        vertical-align: middle;\n",
       "    }\n",
       "\n",
       "    .dataframe tbody tr th {\n",
       "        vertical-align: top;\n",
       "    }\n",
       "\n",
       "    .dataframe thead th {\n",
       "        text-align: right;\n",
       "    }\n",
       "</style>\n",
       "<table border=\"1\" class=\"dataframe\">\n",
       "  <thead>\n",
       "    <tr style=\"text-align: right;\">\n",
       "      <th></th>\n",
       "      <th>cohort</th>\n",
       "      <th>count_accountant</th>\n",
       "      <th>total</th>\n",
       "      <th>m</th>\n",
       "      <th>count_org</th>\n",
       "    </tr>\n",
       "  </thead>\n",
       "  <tbody>\n",
       "    <tr>\n",
       "      <th>0</th>\n",
       "      <td>1</td>\n",
       "      <td>3</td>\n",
       "      <td>1045.0</td>\n",
       "      <td>2</td>\n",
       "      <td>131</td>\n",
       "    </tr>\n",
       "    <tr>\n",
       "      <th>1</th>\n",
       "      <td>1</td>\n",
       "      <td>1</td>\n",
       "      <td>1045.0</td>\n",
       "      <td>3</td>\n",
       "      <td>1</td>\n",
       "    </tr>\n",
       "    <tr>\n",
       "      <th>2</th>\n",
       "      <td>1</td>\n",
       "      <td>1</td>\n",
       "      <td>1045.0</td>\n",
       "      <td>4</td>\n",
       "      <td>2</td>\n",
       "    </tr>\n",
       "    <tr>\n",
       "      <th>3</th>\n",
       "      <td>1</td>\n",
       "      <td>1</td>\n",
       "      <td>1045.0</td>\n",
       "      <td>6</td>\n",
       "      <td>53</td>\n",
       "    </tr>\n",
       "    <tr>\n",
       "      <th>4</th>\n",
       "      <td>1</td>\n",
       "      <td>3</td>\n",
       "      <td>1045.0</td>\n",
       "      <td>7</td>\n",
       "      <td>71</td>\n",
       "    </tr>\n",
       "  </tbody>\n",
       "</table>\n",
       "</div>"
      ],
      "text/plain": [
       "   cohort  count_accountant   total  m  count_org\n",
       "0       1                 3  1045.0  2        131\n",
       "1       1                 1  1045.0  3          1\n",
       "2       1                 1  1045.0  4          2\n",
       "3       1                 1  1045.0  6         53\n",
       "4       1                 3  1045.0  7         71"
      ]
     },
     "execution_count": 13,
     "metadata": {},
     "output_type": "execute_result"
    }
   ],
   "source": [
    "cohort_org = pysqldf(\"\"\"\n",
    "SELECT\n",
    "A.cohort,\n",
    "COUNT(A.accountantId) AS count_accountant,\n",
    "B.total,\n",
    "A.m,\n",
    "SUM(count_org) AS count_org\n",
    "FROM base_engaj_accountant A\n",
    "LEFT JOIN\n",
    "(\n",
    "SELECT\n",
    "cohort,\n",
    "SUM(total) AS total\n",
    "FROM base_engaj_accountant\n",
    "GROUP BY\n",
    "cohort\n",
    ") B ON A.cohort = B.cohort\n",
    "GROUP BY\n",
    "A.cohort,\n",
    "A.m,\n",
    "B.total\n",
    "\"\"\")\n",
    "\n",
    "cohort_org.head()"
   ]
  },
  {
   "cell_type": "markdown",
   "metadata": {},
   "source": [
    "#### 4.1 Creating the First Cohort Analysis: Organization Creation Rate"
   ]
  },
  {
   "cell_type": "markdown",
   "metadata": {},
   "source": [
    "Filtering Dataframe due to limitations on the createdOrganizations table (only has data from between February and September)"
   ]
  },
  {
   "cell_type": "code",
   "execution_count": 14,
   "metadata": {},
   "outputs": [],
   "source": [
    "cohort_org = cohort_org[(cohort_org['cohort']>1) & (cohort_org['cohort']<12)]"
   ]
  },
  {
   "cell_type": "markdown",
   "metadata": {},
   "source": [
    "Calculating the respective month for each metric"
   ]
  },
  {
   "cell_type": "code",
   "execution_count": 15,
   "metadata": {},
   "outputs": [],
   "source": [
    "cohort_org = cohort_org[cohort_org['cohort']<=cohort_org['m']]\n",
    "cohort_org['m'] = cohort_org['m']-cohort_org['cohort']\n",
    "cohort_org = cohort_org.reset_index(drop=True)"
   ]
  },
  {
   "cell_type": "markdown",
   "metadata": {},
   "source": [
    "Calculating the cumulative sum as a percentage from the total"
   ]
  },
  {
   "cell_type": "code",
   "execution_count": 16,
   "metadata": {},
   "outputs": [
    {
     "data": {
      "text/html": [
       "<div>\n",
       "<style scoped>\n",
       "    .dataframe tbody tr th:only-of-type {\n",
       "        vertical-align: middle;\n",
       "    }\n",
       "\n",
       "    .dataframe tbody tr th {\n",
       "        vertical-align: top;\n",
       "    }\n",
       "\n",
       "    .dataframe thead th {\n",
       "        text-align: right;\n",
       "    }\n",
       "</style>\n",
       "<table border=\"1\" class=\"dataframe\">\n",
       "  <thead>\n",
       "    <tr style=\"text-align: right;\">\n",
       "      <th></th>\n",
       "      <th>cohort</th>\n",
       "      <th>m</th>\n",
       "      <th>count_org</th>\n",
       "    </tr>\n",
       "  </thead>\n",
       "  <tbody>\n",
       "    <tr>\n",
       "      <th>0</th>\n",
       "      <td>2</td>\n",
       "      <td>0</td>\n",
       "      <td>0.149333</td>\n",
       "    </tr>\n",
       "    <tr>\n",
       "      <th>1</th>\n",
       "      <td>2</td>\n",
       "      <td>1</td>\n",
       "      <td>0.170963</td>\n",
       "    </tr>\n",
       "    <tr>\n",
       "      <th>2</th>\n",
       "      <td>2</td>\n",
       "      <td>2</td>\n",
       "      <td>0.172296</td>\n",
       "    </tr>\n",
       "    <tr>\n",
       "      <th>3</th>\n",
       "      <td>2</td>\n",
       "      <td>3</td>\n",
       "      <td>0.175852</td>\n",
       "    </tr>\n",
       "    <tr>\n",
       "      <th>4</th>\n",
       "      <td>2</td>\n",
       "      <td>4</td>\n",
       "      <td>0.242370</td>\n",
       "    </tr>\n",
       "  </tbody>\n",
       "</table>\n",
       "</div>"
      ],
      "text/plain": [
       "   cohort  m  count_org\n",
       "0       2  0   0.149333\n",
       "1       2  1   0.170963\n",
       "2       2  2   0.172296\n",
       "3       2  3   0.175852\n",
       "4       2  4   0.242370"
      ]
     },
     "execution_count": 16,
     "metadata": {},
     "output_type": "execute_result"
    }
   ],
   "source": [
    "cohort_org['count_org'] = cohort_org.groupby('cohort')['count_org'].cumsum()\n",
    "cohort_org['count_org'] = cohort_org['count_org']/cohort_org['total']\n",
    "cohort_org.drop(['count_accountant', 'total'], \n",
    "                axis=1, \n",
    "                inplace=True)\n",
    "\n",
    "cohort_org.head()"
   ]
  },
  {
   "cell_type": "markdown",
   "metadata": {},
   "source": [
    "Pivotting the Dataframe"
   ]
  },
  {
   "cell_type": "code",
   "execution_count": 17,
   "metadata": {},
   "outputs": [
    {
     "data": {
      "text/html": [
       "<div>\n",
       "<style scoped>\n",
       "    .dataframe tbody tr th:only-of-type {\n",
       "        vertical-align: middle;\n",
       "    }\n",
       "\n",
       "    .dataframe tbody tr th {\n",
       "        vertical-align: top;\n",
       "    }\n",
       "\n",
       "    .dataframe thead th {\n",
       "        text-align: right;\n",
       "    }\n",
       "</style>\n",
       "<table border=\"1\" class=\"dataframe\">\n",
       "  <thead>\n",
       "    <tr style=\"text-align: right;\">\n",
       "      <th>m</th>\n",
       "      <th>0</th>\n",
       "      <th>1</th>\n",
       "      <th>2</th>\n",
       "      <th>3</th>\n",
       "      <th>4</th>\n",
       "      <th>5</th>\n",
       "      <th>6</th>\n",
       "      <th>7</th>\n",
       "    </tr>\n",
       "    <tr>\n",
       "      <th>cohort</th>\n",
       "      <th></th>\n",
       "      <th></th>\n",
       "      <th></th>\n",
       "      <th></th>\n",
       "      <th></th>\n",
       "      <th></th>\n",
       "      <th></th>\n",
       "      <th></th>\n",
       "    </tr>\n",
       "  </thead>\n",
       "  <tbody>\n",
       "    <tr>\n",
       "      <th>2</th>\n",
       "      <td>0.15</td>\n",
       "      <td>0.17</td>\n",
       "      <td>0.17</td>\n",
       "      <td>0.18</td>\n",
       "      <td>0.24</td>\n",
       "      <td>0.25</td>\n",
       "      <td>0.26</td>\n",
       "      <td>0.27</td>\n",
       "    </tr>\n",
       "    <tr>\n",
       "      <th>3</th>\n",
       "      <td>0.03</td>\n",
       "      <td>0.11</td>\n",
       "      <td>0.12</td>\n",
       "      <td>0.13</td>\n",
       "      <td>0.24</td>\n",
       "      <td>0.26</td>\n",
       "      <td>0.26</td>\n",
       "      <td>NaN</td>\n",
       "    </tr>\n",
       "    <tr>\n",
       "      <th>4</th>\n",
       "      <td>0.05</td>\n",
       "      <td>0.22</td>\n",
       "      <td>0.24</td>\n",
       "      <td>0.25</td>\n",
       "      <td>0.26</td>\n",
       "      <td>0.27</td>\n",
       "      <td>NaN</td>\n",
       "      <td>NaN</td>\n",
       "    </tr>\n",
       "    <tr>\n",
       "      <th>5</th>\n",
       "      <td>0.14</td>\n",
       "      <td>0.31</td>\n",
       "      <td>0.34</td>\n",
       "      <td>0.35</td>\n",
       "      <td>0.36</td>\n",
       "      <td>NaN</td>\n",
       "      <td>NaN</td>\n",
       "      <td>NaN</td>\n",
       "    </tr>\n",
       "    <tr>\n",
       "      <th>6</th>\n",
       "      <td>0.22</td>\n",
       "      <td>0.34</td>\n",
       "      <td>0.38</td>\n",
       "      <td>0.39</td>\n",
       "      <td>NaN</td>\n",
       "      <td>NaN</td>\n",
       "      <td>NaN</td>\n",
       "      <td>NaN</td>\n",
       "    </tr>\n",
       "  </tbody>\n",
       "</table>\n",
       "</div>"
      ],
      "text/plain": [
       "m          0     1     2     3     4     5     6     7\n",
       "cohort                                                \n",
       "2       0.15  0.17  0.17  0.18  0.24  0.25  0.26  0.27\n",
       "3       0.03  0.11  0.12  0.13  0.24  0.26  0.26   NaN\n",
       "4       0.05  0.22  0.24  0.25  0.26  0.27   NaN   NaN\n",
       "5       0.14  0.31  0.34  0.35  0.36   NaN   NaN   NaN\n",
       "6       0.22  0.34  0.38  0.39   NaN   NaN   NaN   NaN"
      ]
     },
     "execution_count": 17,
     "metadata": {},
     "output_type": "execute_result"
    }
   ],
   "source": [
    "cohort_org = round(cohort_org.pivot_table(index=['cohort'], \n",
    "                                          columns='m', \n",
    "                                          values='count_org'),2)\n",
    "\n",
    "cohort_org.head()"
   ]
  },
  {
   "cell_type": "markdown",
   "metadata": {},
   "source": [
    "#### 4.2 Creating the Second Cohort Analysis: Accountant Churn"
   ]
  },
  {
   "cell_type": "code",
   "execution_count": 37,
   "metadata": {},
   "outputs": [],
   "source": [
    "cohort_acc = base_engaj_accountant.copy()"
   ]
  },
  {
   "cell_type": "markdown",
   "metadata": {},
   "source": [
    "Completing the Dataframe with the cancelDate data"
   ]
  },
  {
   "cell_type": "code",
   "execution_count": 38,
   "metadata": {},
   "outputs": [
    {
     "data": {
      "text/html": [
       "<div>\n",
       "<style scoped>\n",
       "    .dataframe tbody tr th:only-of-type {\n",
       "        vertical-align: middle;\n",
       "    }\n",
       "\n",
       "    .dataframe tbody tr th {\n",
       "        vertical-align: top;\n",
       "    }\n",
       "\n",
       "    .dataframe thead th {\n",
       "        text-align: right;\n",
       "    }\n",
       "</style>\n",
       "<table border=\"1\" class=\"dataframe\">\n",
       "  <thead>\n",
       "    <tr style=\"text-align: right;\">\n",
       "      <th></th>\n",
       "      <th>accountantId</th>\n",
       "      <th>cohort</th>\n",
       "      <th>cancelDate</th>\n",
       "    </tr>\n",
       "  </thead>\n",
       "  <tbody>\n",
       "    <tr>\n",
       "      <th>0</th>\n",
       "      <td>22A7B6CA</td>\n",
       "      <td>8</td>\n",
       "      <td>NaN</td>\n",
       "    </tr>\n",
       "    <tr>\n",
       "      <th>1</th>\n",
       "      <td>22A7B6CA</td>\n",
       "      <td>8</td>\n",
       "      <td>NaN</td>\n",
       "    </tr>\n",
       "    <tr>\n",
       "      <th>2</th>\n",
       "      <td>22C2E247</td>\n",
       "      <td>8</td>\n",
       "      <td>NaN</td>\n",
       "    </tr>\n",
       "    <tr>\n",
       "      <th>3</th>\n",
       "      <td>22C2E247</td>\n",
       "      <td>8</td>\n",
       "      <td>NaN</td>\n",
       "    </tr>\n",
       "    <tr>\n",
       "      <th>4</th>\n",
       "      <td>22EB8F2A</td>\n",
       "      <td>4</td>\n",
       "      <td>NaN</td>\n",
       "    </tr>\n",
       "  </tbody>\n",
       "</table>\n",
       "</div>"
      ],
      "text/plain": [
       "  accountantId  cohort cancelDate\n",
       "0     22A7B6CA       8        NaN\n",
       "1     22A7B6CA       8        NaN\n",
       "2     22C2E247       8        NaN\n",
       "3     22C2E247       8        NaN\n",
       "4     22EB8F2A       4        NaN"
      ]
     },
     "execution_count": 38,
     "metadata": {},
     "output_type": "execute_result"
    }
   ],
   "source": [
    "cohort_acc.drop(['total','m','count_org'], \n",
    "                axis=1, \n",
    "                inplace=True)\n",
    "cohort_acc = pd.merge(cohort_acc, \n",
    "                      accountantContracts[['accountantId', 'cancelDate']], \n",
    "                      how='left', \n",
    "                      on='accountantId')\n",
    "\n",
    "cohort_acc.head()"
   ]
  },
  {
   "cell_type": "markdown",
   "metadata": {},
   "source": [
    "Fixing the Datetime columns"
   ]
  },
  {
   "cell_type": "code",
   "execution_count": 39,
   "metadata": {},
   "outputs": [
    {
     "data": {
      "text/html": [
       "<div>\n",
       "<style scoped>\n",
       "    .dataframe tbody tr th:only-of-type {\n",
       "        vertical-align: middle;\n",
       "    }\n",
       "\n",
       "    .dataframe tbody tr th {\n",
       "        vertical-align: top;\n",
       "    }\n",
       "\n",
       "    .dataframe thead th {\n",
       "        text-align: right;\n",
       "    }\n",
       "</style>\n",
       "<table border=\"1\" class=\"dataframe\">\n",
       "  <thead>\n",
       "    <tr style=\"text-align: right;\">\n",
       "      <th></th>\n",
       "      <th>accountantId</th>\n",
       "      <th>cohort</th>\n",
       "      <th>m</th>\n",
       "    </tr>\n",
       "  </thead>\n",
       "  <tbody>\n",
       "    <tr>\n",
       "      <th>0</th>\n",
       "      <td>22A7B6CA</td>\n",
       "      <td>8</td>\n",
       "      <td>NaN</td>\n",
       "    </tr>\n",
       "    <tr>\n",
       "      <th>1</th>\n",
       "      <td>22A7B6CA</td>\n",
       "      <td>8</td>\n",
       "      <td>NaN</td>\n",
       "    </tr>\n",
       "    <tr>\n",
       "      <th>2</th>\n",
       "      <td>22C2E247</td>\n",
       "      <td>8</td>\n",
       "      <td>NaN</td>\n",
       "    </tr>\n",
       "    <tr>\n",
       "      <th>3</th>\n",
       "      <td>22C2E247</td>\n",
       "      <td>8</td>\n",
       "      <td>NaN</td>\n",
       "    </tr>\n",
       "    <tr>\n",
       "      <th>4</th>\n",
       "      <td>22EB8F2A</td>\n",
       "      <td>4</td>\n",
       "      <td>NaN</td>\n",
       "    </tr>\n",
       "  </tbody>\n",
       "</table>\n",
       "</div>"
      ],
      "text/plain": [
       "  accountantId  cohort   m\n",
       "0     22A7B6CA       8 NaN\n",
       "1     22A7B6CA       8 NaN\n",
       "2     22C2E247       8 NaN\n",
       "3     22C2E247       8 NaN\n",
       "4     22EB8F2A       4 NaN"
      ]
     },
     "execution_count": 39,
     "metadata": {},
     "output_type": "execute_result"
    }
   ],
   "source": [
    "cohort_acc['cancelDate'] =  pd.to_datetime(cohort_acc['cancelDate'], \n",
    "                                           format=\"%d/%m/%Y\")\n",
    "cohort_acc['m'] = cohort_acc['cancelDate'].dt.month\n",
    "cohort_acc.drop(['cancelDate'], \n",
    "                axis=1, \n",
    "                inplace=True)\n",
    "\n",
    "cohort_acc.head()"
   ]
  },
  {
   "cell_type": "markdown",
   "metadata": {},
   "source": [
    "Processing the Dataframe"
   ]
  },
  {
   "cell_type": "code",
   "execution_count": 40,
   "metadata": {},
   "outputs": [
    {
     "data": {
      "text/html": [
       "<div>\n",
       "<style scoped>\n",
       "    .dataframe tbody tr th:only-of-type {\n",
       "        vertical-align: middle;\n",
       "    }\n",
       "\n",
       "    .dataframe tbody tr th {\n",
       "        vertical-align: top;\n",
       "    }\n",
       "\n",
       "    .dataframe thead th {\n",
       "        text-align: right;\n",
       "    }\n",
       "</style>\n",
       "<table border=\"1\" class=\"dataframe\">\n",
       "  <thead>\n",
       "    <tr style=\"text-align: right;\">\n",
       "      <th></th>\n",
       "      <th>cohort</th>\n",
       "      <th>total</th>\n",
       "      <th>m</th>\n",
       "      <th>count_dp_acc</th>\n",
       "    </tr>\n",
       "  </thead>\n",
       "  <tbody>\n",
       "    <tr>\n",
       "      <th>0</th>\n",
       "      <td>1</td>\n",
       "      <td>5</td>\n",
       "      <td>0.0</td>\n",
       "      <td>0</td>\n",
       "    </tr>\n",
       "    <tr>\n",
       "      <th>1</th>\n",
       "      <td>1</td>\n",
       "      <td>5</td>\n",
       "      <td>5.0</td>\n",
       "      <td>1</td>\n",
       "    </tr>\n",
       "    <tr>\n",
       "      <th>2</th>\n",
       "      <td>2</td>\n",
       "      <td>11</td>\n",
       "      <td>0.0</td>\n",
       "      <td>0</td>\n",
       "    </tr>\n",
       "    <tr>\n",
       "      <th>3</th>\n",
       "      <td>2</td>\n",
       "      <td>11</td>\n",
       "      <td>4.0</td>\n",
       "      <td>1</td>\n",
       "    </tr>\n",
       "    <tr>\n",
       "      <th>4</th>\n",
       "      <td>2</td>\n",
       "      <td>11</td>\n",
       "      <td>6.0</td>\n",
       "      <td>1</td>\n",
       "    </tr>\n",
       "  </tbody>\n",
       "</table>\n",
       "</div>"
      ],
      "text/plain": [
       "   cohort  total    m  count_dp_acc\n",
       "0       1      5  0.0             0\n",
       "1       1      5  5.0             1\n",
       "2       2     11  0.0             0\n",
       "3       2     11  4.0             1\n",
       "4       2     11  6.0             1"
      ]
     },
     "execution_count": 40,
     "metadata": {},
     "output_type": "execute_result"
    }
   ],
   "source": [
    "cohort_acc['m'] = cohort_acc['m'].fillna(0)\n",
    "\n",
    "cohort_acc = pysqldf(\"\"\"\n",
    "SELECT\n",
    "A.cohort,\n",
    "B.total,\n",
    "A.m,\n",
    "COUNT(DISTINCT CASE WHEN m>0 THEN A.accountantId ELSE NULL END) AS count_dp_acc\n",
    "FROM cohort_acc A\n",
    "LEFT JOIN\n",
    "(\n",
    "SELECT\n",
    "cohort,\n",
    "COUNT(DISTINCT accountantId) AS total\n",
    "FROM cohort_acc\n",
    "GROUP BY\n",
    "cohort\n",
    ") B ON A.cohort = B.cohort\n",
    "GROUP BY\n",
    "A.cohort,\n",
    "A.m,\n",
    "B.total\n",
    "\"\"\")\n",
    "\n",
    "cohort_acc.head()"
   ]
  },
  {
   "cell_type": "markdown",
   "metadata": {},
   "source": [
    "Filtering Dataframe in order to make both cohort analysis' charts comparable"
   ]
  },
  {
   "cell_type": "code",
   "execution_count": 41,
   "metadata": {},
   "outputs": [],
   "source": [
    "cohort_acc = cohort_acc[(cohort_acc['cohort']>1) & (cohort_acc['cohort']<12)]"
   ]
  },
  {
   "cell_type": "markdown",
   "metadata": {},
   "source": [
    "Calculating the respective month for each metric"
   ]
  },
  {
   "cell_type": "code",
   "execution_count": 42,
   "metadata": {},
   "outputs": [
    {
     "data": {
      "text/html": [
       "<div>\n",
       "<style scoped>\n",
       "    .dataframe tbody tr th:only-of-type {\n",
       "        vertical-align: middle;\n",
       "    }\n",
       "\n",
       "    .dataframe tbody tr th {\n",
       "        vertical-align: top;\n",
       "    }\n",
       "\n",
       "    .dataframe thead th {\n",
       "        text-align: right;\n",
       "    }\n",
       "</style>\n",
       "<table border=\"1\" class=\"dataframe\">\n",
       "  <thead>\n",
       "    <tr style=\"text-align: right;\">\n",
       "      <th></th>\n",
       "      <th>cohort</th>\n",
       "      <th>total</th>\n",
       "      <th>m</th>\n",
       "      <th>count_dp_acc</th>\n",
       "    </tr>\n",
       "  </thead>\n",
       "  <tbody>\n",
       "    <tr>\n",
       "      <th>0</th>\n",
       "      <td>2</td>\n",
       "      <td>11</td>\n",
       "      <td>0.0</td>\n",
       "      <td>0</td>\n",
       "    </tr>\n",
       "    <tr>\n",
       "      <th>1</th>\n",
       "      <td>2</td>\n",
       "      <td>11</td>\n",
       "      <td>1.0</td>\n",
       "      <td>0</td>\n",
       "    </tr>\n",
       "    <tr>\n",
       "      <th>2</th>\n",
       "      <td>2</td>\n",
       "      <td>11</td>\n",
       "      <td>2.0</td>\n",
       "      <td>1</td>\n",
       "    </tr>\n",
       "    <tr>\n",
       "      <th>3</th>\n",
       "      <td>2</td>\n",
       "      <td>11</td>\n",
       "      <td>3.0</td>\n",
       "      <td>0</td>\n",
       "    </tr>\n",
       "    <tr>\n",
       "      <th>4</th>\n",
       "      <td>2</td>\n",
       "      <td>11</td>\n",
       "      <td>4.0</td>\n",
       "      <td>1</td>\n",
       "    </tr>\n",
       "  </tbody>\n",
       "</table>\n",
       "</div>"
      ],
      "text/plain": [
       "   cohort  total    m  count_dp_acc\n",
       "0       2     11  0.0             0\n",
       "1       2     11  1.0             0\n",
       "2       2     11  2.0             1\n",
       "3       2     11  3.0             0\n",
       "4       2     11  4.0             1"
      ]
     },
     "execution_count": 42,
     "metadata": {},
     "output_type": "execute_result"
    }
   ],
   "source": [
    "cohort_list = ['2','3','4','5','6','7','8','9']\n",
    "m_list = ['2','3','4','5','6','7','8','9']\n",
    "\n",
    "for cohort in cohort_list:\n",
    "    for m in m_list:\n",
    "        m = int(m)\n",
    "        cohort = int(cohort)\n",
    "        df= []\n",
    "        total = int(cohort_acc.loc[cohort_acc['cohort'] == cohort] \\\n",
    "                    ['total'].tolist()[0])\n",
    "        df.append((cohort,total,m,0))\n",
    "        df = pd.DataFrame(df)\n",
    "        df.rename(columns = {0:'cohort',\n",
    "                             1:'total',\n",
    "                             2:'m',\n",
    "                             3:'count_dp_acc'}, \n",
    "                  inplace = True)\n",
    "        cohort_acc = cohort_acc.append(df)\n",
    "\n",
    "cohort_acc = cohort_acc.sort_values(by=['cohort','m']).reset_index(drop=True)\n",
    "\n",
    "cohort_acc = pysqldf(\"\"\"\n",
    "SELECT\n",
    "cohort,\n",
    "total,\n",
    "m,\n",
    "SUM(count_dp_acc) AS count_dp_acc\n",
    "FROM cohort_acc\n",
    "GROUP BY\n",
    "cohort,\n",
    "total,\n",
    "m\n",
    "\"\"\")\n",
    "\n",
    "cohort_acc = cohort_acc[cohort_acc['cohort']<=cohort_acc['m']]\n",
    "cohort_acc['m'] = cohort_acc['m']-cohort_acc['cohort']\n",
    "cohort_acc = cohort_acc.reset_index(drop=True)\n",
    "\n",
    "cohort_acc.head()"
   ]
  },
  {
   "cell_type": "markdown",
   "metadata": {},
   "source": [
    "Calculating the cumulative sum as a percentage from the total"
   ]
  },
  {
   "cell_type": "code",
   "execution_count": 43,
   "metadata": {},
   "outputs": [
    {
     "data": {
      "text/html": [
       "<div>\n",
       "<style scoped>\n",
       "    .dataframe tbody tr th:only-of-type {\n",
       "        vertical-align: middle;\n",
       "    }\n",
       "\n",
       "    .dataframe tbody tr th {\n",
       "        vertical-align: top;\n",
       "    }\n",
       "\n",
       "    .dataframe thead th {\n",
       "        text-align: right;\n",
       "    }\n",
       "</style>\n",
       "<table border=\"1\" class=\"dataframe\">\n",
       "  <thead>\n",
       "    <tr style=\"text-align: right;\">\n",
       "      <th></th>\n",
       "      <th>cohort</th>\n",
       "      <th>m</th>\n",
       "      <th>count_acc</th>\n",
       "    </tr>\n",
       "  </thead>\n",
       "  <tbody>\n",
       "    <tr>\n",
       "      <th>0</th>\n",
       "      <td>2</td>\n",
       "      <td>0.0</td>\n",
       "      <td>1.000000</td>\n",
       "    </tr>\n",
       "    <tr>\n",
       "      <th>1</th>\n",
       "      <td>2</td>\n",
       "      <td>1.0</td>\n",
       "      <td>1.000000</td>\n",
       "    </tr>\n",
       "    <tr>\n",
       "      <th>2</th>\n",
       "      <td>2</td>\n",
       "      <td>2.0</td>\n",
       "      <td>0.909091</td>\n",
       "    </tr>\n",
       "    <tr>\n",
       "      <th>3</th>\n",
       "      <td>2</td>\n",
       "      <td>3.0</td>\n",
       "      <td>0.909091</td>\n",
       "    </tr>\n",
       "    <tr>\n",
       "      <th>4</th>\n",
       "      <td>2</td>\n",
       "      <td>4.0</td>\n",
       "      <td>0.818182</td>\n",
       "    </tr>\n",
       "  </tbody>\n",
       "</table>\n",
       "</div>"
      ],
      "text/plain": [
       "   cohort    m  count_acc\n",
       "0       2  0.0   1.000000\n",
       "1       2  1.0   1.000000\n",
       "2       2  2.0   0.909091\n",
       "3       2  3.0   0.909091\n",
       "4       2  4.0   0.818182"
      ]
     },
     "execution_count": 43,
     "metadata": {},
     "output_type": "execute_result"
    }
   ],
   "source": [
    "cohort_acc['count_dp_acc'] = \\\n",
    "cohort_acc.groupby('cohort')['count_dp_acc'].cumsum()\n",
    "cohort_acc['count_acc'] = cohort_acc['total']-cohort_acc['count_dp_acc']\n",
    "cohort_acc['count_acc'] = cohort_acc['count_acc']/cohort_acc['total']\n",
    "cohort_acc.drop(['count_dp_acc', 'total'], \n",
    "                axis=1, \n",
    "                inplace=True)\n",
    "\n",
    "cohort_acc.head()"
   ]
  },
  {
   "cell_type": "markdown",
   "metadata": {},
   "source": [
    "Pivotting the Dataframe"
   ]
  },
  {
   "cell_type": "code",
   "execution_count": 44,
   "metadata": {},
   "outputs": [
    {
     "data": {
      "text/html": [
       "<div>\n",
       "<style scoped>\n",
       "    .dataframe tbody tr th:only-of-type {\n",
       "        vertical-align: middle;\n",
       "    }\n",
       "\n",
       "    .dataframe tbody tr th {\n",
       "        vertical-align: top;\n",
       "    }\n",
       "\n",
       "    .dataframe thead th {\n",
       "        text-align: right;\n",
       "    }\n",
       "</style>\n",
       "<table border=\"1\" class=\"dataframe\">\n",
       "  <thead>\n",
       "    <tr style=\"text-align: right;\">\n",
       "      <th>m</th>\n",
       "      <th>0.0</th>\n",
       "      <th>1.0</th>\n",
       "      <th>2.0</th>\n",
       "      <th>3.0</th>\n",
       "      <th>4.0</th>\n",
       "      <th>5.0</th>\n",
       "      <th>6.0</th>\n",
       "      <th>7.0</th>\n",
       "    </tr>\n",
       "    <tr>\n",
       "      <th>cohort</th>\n",
       "      <th></th>\n",
       "      <th></th>\n",
       "      <th></th>\n",
       "      <th></th>\n",
       "      <th></th>\n",
       "      <th></th>\n",
       "      <th></th>\n",
       "      <th></th>\n",
       "    </tr>\n",
       "  </thead>\n",
       "  <tbody>\n",
       "    <tr>\n",
       "      <th>2</th>\n",
       "      <td>1.0</td>\n",
       "      <td>1.00</td>\n",
       "      <td>0.91</td>\n",
       "      <td>0.91</td>\n",
       "      <td>0.82</td>\n",
       "      <td>0.73</td>\n",
       "      <td>0.73</td>\n",
       "      <td>0.73</td>\n",
       "    </tr>\n",
       "    <tr>\n",
       "      <th>3</th>\n",
       "      <td>1.0</td>\n",
       "      <td>1.00</td>\n",
       "      <td>1.00</td>\n",
       "      <td>0.82</td>\n",
       "      <td>0.73</td>\n",
       "      <td>0.73</td>\n",
       "      <td>0.73</td>\n",
       "      <td>NaN</td>\n",
       "    </tr>\n",
       "    <tr>\n",
       "      <th>4</th>\n",
       "      <td>1.0</td>\n",
       "      <td>1.00</td>\n",
       "      <td>1.00</td>\n",
       "      <td>1.00</td>\n",
       "      <td>1.00</td>\n",
       "      <td>0.97</td>\n",
       "      <td>NaN</td>\n",
       "      <td>NaN</td>\n",
       "    </tr>\n",
       "    <tr>\n",
       "      <th>5</th>\n",
       "      <td>1.0</td>\n",
       "      <td>0.98</td>\n",
       "      <td>0.95</td>\n",
       "      <td>0.93</td>\n",
       "      <td>0.91</td>\n",
       "      <td>NaN</td>\n",
       "      <td>NaN</td>\n",
       "      <td>NaN</td>\n",
       "    </tr>\n",
       "    <tr>\n",
       "      <th>6</th>\n",
       "      <td>1.0</td>\n",
       "      <td>0.96</td>\n",
       "      <td>0.95</td>\n",
       "      <td>0.93</td>\n",
       "      <td>NaN</td>\n",
       "      <td>NaN</td>\n",
       "      <td>NaN</td>\n",
       "      <td>NaN</td>\n",
       "    </tr>\n",
       "    <tr>\n",
       "      <th>7</th>\n",
       "      <td>1.0</td>\n",
       "      <td>1.00</td>\n",
       "      <td>1.00</td>\n",
       "      <td>NaN</td>\n",
       "      <td>NaN</td>\n",
       "      <td>NaN</td>\n",
       "      <td>NaN</td>\n",
       "      <td>NaN</td>\n",
       "    </tr>\n",
       "    <tr>\n",
       "      <th>8</th>\n",
       "      <td>1.0</td>\n",
       "      <td>1.00</td>\n",
       "      <td>NaN</td>\n",
       "      <td>NaN</td>\n",
       "      <td>NaN</td>\n",
       "      <td>NaN</td>\n",
       "      <td>NaN</td>\n",
       "      <td>NaN</td>\n",
       "    </tr>\n",
       "    <tr>\n",
       "      <th>9</th>\n",
       "      <td>1.0</td>\n",
       "      <td>NaN</td>\n",
       "      <td>NaN</td>\n",
       "      <td>NaN</td>\n",
       "      <td>NaN</td>\n",
       "      <td>NaN</td>\n",
       "      <td>NaN</td>\n",
       "      <td>NaN</td>\n",
       "    </tr>\n",
       "  </tbody>\n",
       "</table>\n",
       "</div>"
      ],
      "text/plain": [
       "m       0.0   1.0   2.0   3.0   4.0   5.0   6.0   7.0\n",
       "cohort                                               \n",
       "2       1.0  1.00  0.91  0.91  0.82  0.73  0.73  0.73\n",
       "3       1.0  1.00  1.00  0.82  0.73  0.73  0.73   NaN\n",
       "4       1.0  1.00  1.00  1.00  1.00  0.97   NaN   NaN\n",
       "5       1.0  0.98  0.95  0.93  0.91   NaN   NaN   NaN\n",
       "6       1.0  0.96  0.95  0.93   NaN   NaN   NaN   NaN\n",
       "7       1.0  1.00  1.00   NaN   NaN   NaN   NaN   NaN\n",
       "8       1.0  1.00   NaN   NaN   NaN   NaN   NaN   NaN\n",
       "9       1.0   NaN   NaN   NaN   NaN   NaN   NaN   NaN"
      ]
     },
     "execution_count": 44,
     "metadata": {},
     "output_type": "execute_result"
    }
   ],
   "source": [
    "cohort_acc = round(cohort_acc.pivot_table(index=['cohort'], \n",
    "                                          columns='m', \n",
    "                                          values='count_acc'),2)\n",
    "\n",
    "cohort_acc"
   ]
  },
  {
   "cell_type": "markdown",
   "metadata": {},
   "source": [
    "### 5. Plotting the Cohorts"
   ]
  },
  {
   "cell_type": "markdown",
   "metadata": {},
   "source": [
    "#### 5.1 First Cohort Analysis: Organization Creation Rate"
   ]
  },
  {
   "cell_type": "code",
   "execution_count": 45,
   "metadata": {},
   "outputs": [
    {
     "data": {
      "image/png": "[encoded data removed]",
      "text/plain": [
       "<Figure size 792x648 with 2 Axes>"
      ]
     },
     "metadata": {
      "needs_background": "light"
     },
     "output_type": "display_data"
    }
   ],
   "source": [
    "plt.figure(figsize = (11,9))\n",
    "plt.title('First Cohort Analysis: Organization Creation Rate')\n",
    "cohort_org_plot = sns.heatmap(data = cohort_org, \n",
    "                              annot = True, \n",
    "                              fmt = '.0%', \n",
    "                              vmin = 0.0,\n",
    "                              vmax = 1.0,\n",
    "                              cmap = \"YlGnBu\")"
   ]
  },
  {
   "cell_type": "markdown",
   "metadata": {},
   "source": [
    "#### 5.2 Second Cohort Analysis: Accountant Churn"
   ]
  },
  {
   "cell_type": "code",
   "execution_count": 47,
   "metadata": {},
   "outputs": [
    {
     "data": {
      "image/png": "[encoded data removed]",
      "text/plain": [
       "<Figure size 792x648 with 2 Axes>"
      ]
     },
     "metadata": {
      "needs_background": "light"
     },
     "output_type": "display_data"
    }
   ],
   "source": [
    "plt.figure(figsize = (11,9))\n",
    "plt.title('Second Cohort Analysis: Accountant Churn')\n",
    "cohort_acc_plot = sns.heatmap(data = cohort_acc, \n",
    "                              annot = True, \n",
    "                              fmt = '.0%', \n",
    "                              vmin = 0.0,\n",
    "                              vmax = 1.0,\n",
    "                              cmap = \"YlGnBu\")"
   ]
  },
  {
   "cell_type": "markdown",
   "metadata": {},
   "source": [
    "### 6. Cohorts Correlation Hypothesis: Qualitative Analysis"
   ]
  },
  {
   "attachments": {
    "image.png": {
     "image/png": "[encoded data removed]"
    }
   },
   "cell_type": "markdown",
   "metadata": {},
   "source": [
    "![image.png](attachment:image.png)\n",
    "The main goal for the analysis is to try and reject the null hypothesis (H0), that there is no correlation between both metrics (lack of accountant engagement rate and accountant churn rate). For that, we will aim for a correlation coefficient of at least greater than 50%.\n",
    "\n",
    "The cohorts to be analysed are: #2, #3, #5, #5 and #6. The cohorts #7, #8 and #9 presented a null variance for the accountant churn rate."
   ]
  },
  {
   "cell_type": "code",
   "execution_count": 36,
   "metadata": {},
   "outputs": [
    {
     "data": {
      "text/html": [
       "<div>\n",
       "<style scoped>\n",
       "    .dataframe tbody tr th:only-of-type {\n",
       "        vertical-align: middle;\n",
       "    }\n",
       "\n",
       "    .dataframe tbody tr th {\n",
       "        vertical-align: top;\n",
       "    }\n",
       "\n",
       "    .dataframe thead th {\n",
       "        text-align: right;\n",
       "    }\n",
       "</style>\n",
       "<table border=\"1\" class=\"dataframe\">\n",
       "  <thead>\n",
       "    <tr style=\"text-align: right;\">\n",
       "      <th></th>\n",
       "      <th>corr</th>\n",
       "      <th>acc_weight</th>\n",
       "    </tr>\n",
       "    <tr>\n",
       "      <th>cohort</th>\n",
       "      <th></th>\n",
       "      <th></th>\n",
       "    </tr>\n",
       "  </thead>\n",
       "  <tbody>\n",
       "    <tr>\n",
       "      <th>2</th>\n",
       "      <td>-0.963531</td>\n",
       "      <td>11</td>\n",
       "    </tr>\n",
       "    <tr>\n",
       "      <th>3</th>\n",
       "      <td>-0.901650</td>\n",
       "      <td>11</td>\n",
       "    </tr>\n",
       "    <tr>\n",
       "      <th>4</th>\n",
       "      <td>-0.326030</td>\n",
       "      <td>37</td>\n",
       "    </tr>\n",
       "    <tr>\n",
       "      <th>5</th>\n",
       "      <td>-0.832710</td>\n",
       "      <td>55</td>\n",
       "    </tr>\n",
       "    <tr>\n",
       "      <th>6</th>\n",
       "      <td>-0.971985</td>\n",
       "      <td>57</td>\n",
       "    </tr>\n",
       "  </tbody>\n",
       "</table>\n",
       "</div>"
      ],
      "text/plain": [
       "            corr  acc_weight\n",
       "cohort                      \n",
       "2      -0.963531          11\n",
       "3      -0.901650          11\n",
       "4      -0.326030          37\n",
       "5      -0.832710          55\n",
       "6      -0.971985          57"
      ]
     },
     "execution_count": 36,
     "metadata": {},
     "output_type": "execute_result"
    }
   ],
   "source": [
    "cohort_org = cohort_org.T\n",
    "cohort_acc = cohort_acc.T\n",
    "df_corr = pd.merge(pd.DataFrame(cohort_org.corrwith(cohort_acc)), \n",
    "              pd.DataFrame(base_engaj_accountant.groupby('cohort') \\\n",
    "                           ['accountantId'].nunique()), \n",
    "              how='left', \n",
    "              on='cohort').dropna()\n",
    "df_corr = df_corr.rename(columns={0: 'corr', 'accountantId': 'acc_weight'})\n",
    "df_corr"
   ]
  },
  {
   "cell_type": "code",
   "execution_count": 38,
   "metadata": {},
   "outputs": [
    {
     "name": "stdout",
     "output_type": "stream",
     "text": [
      "Cohort 2:\n"
     ]
    },
    {
     "data": {
      "text/plain": [
       "<matplotlib.axes._subplots.AxesSubplot at 0x1a6bfc8feb8>"
      ]
     },
     "execution_count": 38,
     "metadata": {},
     "output_type": "execute_result"
    },
    {
     "data": {
      "image/png": "[encoded data removed]",
      "text/plain": [
       "<Figure size 432x288 with 1 Axes>"
      ]
     },
     "metadata": {
      "needs_background": "light"
     },
     "output_type": "display_data"
    }
   ],
   "source": [
    "print('Cohort 2:')\n",
    "sns.regplot(cohort_org[2], cohort_acc[2])"
   ]
  },
  {
   "cell_type": "code",
   "execution_count": 39,
   "metadata": {},
   "outputs": [
    {
     "name": "stdout",
     "output_type": "stream",
     "text": [
      "Cohort 3:\n"
     ]
    },
    {
     "data": {
      "text/plain": [
       "<matplotlib.axes._subplots.AxesSubplot at 0x1a6bfc71358>"
      ]
     },
     "execution_count": 39,
     "metadata": {},
     "output_type": "execute_result"
    },
    {
     "data": {
      "image/png": "[encoded data removed]",
      "text/plain": [
       "<Figure size 432x288 with 1 Axes>"
      ]
     },
     "metadata": {
      "needs_background": "light"
     },
     "output_type": "display_data"
    }
   ],
   "source": [
    "print('Cohort 3:')\n",
    "sns.regplot(cohort_org[3], cohort_acc[3])"
   ]
  },
  {
   "cell_type": "code",
   "execution_count": 41,
   "metadata": {},
   "outputs": [
    {
     "name": "stdout",
     "output_type": "stream",
     "text": [
      "Cohort 4:\n"
     ]
    },
    {
     "data": {
      "text/plain": [
       "<matplotlib.axes._subplots.AxesSubplot at 0x1a6bfde2e10>"
      ]
     },
     "execution_count": 41,
     "metadata": {},
     "output_type": "execute_result"
    },
    {
     "data": {
      "image/png": "[encoded data removed]",
      "text/plain": [
       "<Figure size 432x288 with 1 Axes>"
      ]
     },
     "metadata": {
      "needs_background": "light"
     },
     "output_type": "display_data"
    }
   ],
   "source": [
    "print('Cohort 4:')\n",
    "sns.regplot(cohort_org[4], cohort_acc[4])"
   ]
  },
  {
   "cell_type": "code",
   "execution_count": 42,
   "metadata": {},
   "outputs": [
    {
     "name": "stdout",
     "output_type": "stream",
     "text": [
      "Cohort 5:\n"
     ]
    },
    {
     "data": {
      "text/plain": [
       "<matplotlib.axes._subplots.AxesSubplot at 0x1a6bfe34898>"
      ]
     },
     "execution_count": 42,
     "metadata": {},
     "output_type": "execute_result"
    },
    {
     "data": {
      "image/png": "[encoded data removed]",
      "text/plain": [
       "<Figure size 432x288 with 1 Axes>"
      ]
     },
     "metadata": {
      "needs_background": "light"
     },
     "output_type": "display_data"
    }
   ],
   "source": [
    "print('Cohort 5:')\n",
    "sns.regplot(cohort_org[5], cohort_acc[5])"
   ]
  },
  {
   "cell_type": "code",
   "execution_count": 43,
   "metadata": {},
   "outputs": [
    {
     "name": "stdout",
     "output_type": "stream",
     "text": [
      "Cohort 6:\n"
     ]
    },
    {
     "data": {
      "text/plain": [
       "<matplotlib.axes._subplots.AxesSubplot at 0x1a6bfe9a8d0>"
      ]
     },
     "execution_count": 43,
     "metadata": {},
     "output_type": "execute_result"
    },
    {
     "data": {
      "image/png": "[encoded data removed]",
      "text/plain": [
       "<Figure size 432x288 with 1 Axes>"
      ]
     },
     "metadata": {
      "needs_background": "light"
     },
     "output_type": "display_data"
    }
   ],
   "source": [
    "print('Cohort 6:')\n",
    "sns.regplot(cohort_org[6], cohort_acc[6])"
   ]
  },
  {
   "cell_type": "code",
   "execution_count": 44,
   "metadata": {},
   "outputs": [
    {
     "name": "stdout",
     "output_type": "stream",
     "text": [
      "The weighted correlation between the lack of accountant engagement rate and accountant churn rate is of 78.24%.\n"
     ]
    }
   ],
   "source": [
    "print('The weighted correlation between the lack of accountant engagement '+\n",
    "      'rate and accountant churn rate is of '+\n",
    "str(round((((df_corr['corr']*df_corr['acc_weight']).sum())/\n",
    "     df_corr['acc_weight'].sum())*(-1), 4)*100)+'%.')"
   ]
  },
  {
   "cell_type": "markdown",
   "metadata": {},
   "source": [
    "A correlation greater than 80% is generally described as strong, while a correlation less than 50% is generally described as weak. The correlation for the following example is as high as 80%, so we can assume the correlation in this case is fairly strong and therefore we can statiscally reject the null hipothesis that there is no correlation between both metrics.\n",
    "\n",
    "The worst correlation within the cohorts was for cohort #4, but that was expected with such a linear data for the accountant churn rates. By the other hand, the best correlation was for cohort #2, which despites its high correlation, didn't have a great impact on the final weighted correlation due to its low distinct count of accountants.\n",
    "\n",
    "There was no churn for the cohorts #7, #8 and #9. We can assume that there was some sort of engagement action plan with a main goal of increasing Nibo's accountants retention at some point in July for the newest client base."
   ]
  }
 ],
 "metadata": {
  "celltoolbar": "Raw Cell Format",
  "kernelspec": {
   "display_name": "Python 3",
   "language": "python",
   "name": "python3"
  },
  "language_info": {
   "codemirror_mode": {
    "name": "ipython",
    "version": 3
   },
   "file_extension": ".py",
   "mimetype": "text/x-python",
   "name": "python",
   "nbconvert_exporter": "python",
   "pygments_lexer": "ipython3",
   "version": "3.7.3"
  }
 },
 "nbformat": 4,
 "nbformat_minor": 2
}
